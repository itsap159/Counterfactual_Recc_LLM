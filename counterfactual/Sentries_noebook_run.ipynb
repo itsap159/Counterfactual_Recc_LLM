{
 "cells": [
  {
   "cell_type": "code",
   "execution_count": 21,
   "id": "435d70f2",
   "metadata": {},
   "outputs": [],
   "source": [
    "from re import S\n",
    "import torch\n",
    "import numpy as np\n",
    "import pandas as pd\n",
    "import json\n",
    "import pickle\n",
    "# from torch._C import R\n",
    "import tqdm\n",
    "from torch.random import seed\n",
    "from utils.functions import sentiment_data_filtering, get_user_item_dict, get_feature_list, \\\n",
    "    get_user_attention_matrix, get_item_quality_matrix, sample_training_pairs\n",
    "import pandas as pd\n",
    "import argparse\n",
    "from utils.argument_amazon import arg_parse_train_base, arg_parser_preprocessing\n",
    "import ast\n",
    "from sys import exit\n",
    "import torch\n",
    "import pickle\n",
    "import os\n",
    "from pathlib import Path\n",
    "from utils.argument_amazon import arg_parse_exp_optimize\n",
    "from models.models import BaseRecModel, ExpOptimizationModel"
   ]
  },
  {
   "cell_type": "code",
   "execution_count": 26,
   "id": "f44ce57e",
   "metadata": {},
   "outputs": [],
   "source": [
    "import pickle\n",
    "\n",
    "# Path to your pickle file\n",
    "pickle_file_path = \"Datasets/reviews_a2.pickle\"\n",
    "\n",
    "# Open the pickle file in binary mode for reading\n",
    "with open(pickle_file_path, \"rb\") as file:\n",
    "    # Load the object from the pickle file\n",
    "    loaded_object = pickle.load(file)\n"
   ]
  },
  {
   "cell_type": "code",
   "execution_count": 28,
   "id": "b0a506b8",
   "metadata": {},
   "outputs": [
    {
     "data": {
      "text/html": [
       "<div>\n",
       "<style scoped>\n",
       "    .dataframe tbody tr th:only-of-type {\n",
       "        vertical-align: middle;\n",
       "    }\n",
       "\n",
       "    .dataframe tbody tr th {\n",
       "        vertical-align: top;\n",
       "    }\n",
       "\n",
       "    .dataframe thead th {\n",
       "        text-align: right;\n",
       "    }\n",
       "</style>\n",
       "<table border=\"1\" class=\"dataframe\">\n",
       "  <thead>\n",
       "    <tr style=\"text-align: right;\">\n",
       "      <th></th>\n",
       "      <th>user</th>\n",
       "      <th>unixReviewTime</th>\n",
       "      <th>item</th>\n",
       "      <th>text</th>\n",
       "      <th>sentence</th>\n",
       "    </tr>\n",
       "  </thead>\n",
       "  <tbody>\n",
       "    <tr>\n",
       "      <th>0</th>\n",
       "      <td>AJ6B83I4YJHYW</td>\n",
       "      <td>1372636800</td>\n",
       "      <td>0000031887</td>\n",
       "      <td>This was a gift for a two year old and a five ...</td>\n",
       "      <td>NaN</td>\n",
       "    </tr>\n",
       "    <tr>\n",
       "      <th>1</th>\n",
       "      <td>A1R377IPZOKLMM</td>\n",
       "      <td>1284768000</td>\n",
       "      <td>1608299953</td>\n",
       "      <td>I really enjoy the Rosetta Stone software; it'...</td>\n",
       "      <td>NaN</td>\n",
       "    </tr>\n",
       "    <tr>\n",
       "      <th>2</th>\n",
       "      <td>A122XGIAS5WN57</td>\n",
       "      <td>1379894400</td>\n",
       "      <td>B00006XXGO</td>\n",
       "      <td>Nice fit, looks like the picture. Delivered pr...</td>\n",
       "      <td>NaN</td>\n",
       "    </tr>\n",
       "    <tr>\n",
       "      <th>3</th>\n",
       "      <td>A3KR8RNNPF2XY</td>\n",
       "      <td>1403222400</td>\n",
       "      <td>B00006XXGO</td>\n",
       "      <td>I now have several in white, red, and black......</td>\n",
       "      <td>NaN</td>\n",
       "    </tr>\n",
       "    <tr>\n",
       "      <th>4</th>\n",
       "      <td>A2TY9KJ0B5LI0P</td>\n",
       "      <td>1355270400</td>\n",
       "      <td>B000072UMJ</td>\n",
       "      <td>These run bigger than normal tennis shoes...my...</td>\n",
       "      <td>NaN</td>\n",
       "    </tr>\n",
       "    <tr>\n",
       "      <th>...</th>\n",
       "      <td>...</td>\n",
       "      <td>...</td>\n",
       "      <td>...</td>\n",
       "      <td>...</td>\n",
       "      <td>...</td>\n",
       "    </tr>\n",
       "    <tr>\n",
       "      <th>10249</th>\n",
       "      <td>A34BZM6S9L7QI4</td>\n",
       "      <td>1400889600</td>\n",
       "      <td>B00JZSDW8A</td>\n",
       "      <td>These are as pretty in person as they are on h...</td>\n",
       "      <td>NaN</td>\n",
       "    </tr>\n",
       "    <tr>\n",
       "      <th>10250</th>\n",
       "      <td>A38VCIVAE3OXD3</td>\n",
       "      <td>1405987200</td>\n",
       "      <td>B00K0BPFY0</td>\n",
       "      <td>Lots of compliments on this shirt.  At 5'3&amp;#34...</td>\n",
       "      <td>NaN</td>\n",
       "    </tr>\n",
       "    <tr>\n",
       "      <th>10251</th>\n",
       "      <td>A34BZM6S9L7QI4</td>\n",
       "      <td>1403308800</td>\n",
       "      <td>B00K5T4NHC</td>\n",
       "      <td>I slipped this in among my son's other moistur...</td>\n",
       "      <td>[(size, true, true to size and a great value, 1)]</td>\n",
       "    </tr>\n",
       "    <tr>\n",
       "      <th>10252</th>\n",
       "      <td>A1M1Y5UGONAW06</td>\n",
       "      <td>1405641600</td>\n",
       "      <td>B00K8J06CK</td>\n",
       "      <td>I'm a huge fan of  Azules, and wear an Azules ...</td>\n",
       "      <td>NaN</td>\n",
       "    </tr>\n",
       "    <tr>\n",
       "      <th>10253</th>\n",
       "      <td>A2NOW4U7W3F7RI</td>\n",
       "      <td>1403568000</td>\n",
       "      <td>B00KGCLROK</td>\n",
       "      <td>These are cozy and complements well for yoga. ...</td>\n",
       "      <td>NaN</td>\n",
       "    </tr>\n",
       "  </tbody>\n",
       "</table>\n",
       "<p>10254 rows × 5 columns</p>\n",
       "</div>"
      ],
      "text/plain": [
       "                 user  unixReviewTime        item  \\\n",
       "0       AJ6B83I4YJHYW      1372636800  0000031887   \n",
       "1      A1R377IPZOKLMM      1284768000  1608299953   \n",
       "2      A122XGIAS5WN57      1379894400  B00006XXGO   \n",
       "3       A3KR8RNNPF2XY      1403222400  B00006XXGO   \n",
       "4      A2TY9KJ0B5LI0P      1355270400  B000072UMJ   \n",
       "...               ...             ...         ...   \n",
       "10249  A34BZM6S9L7QI4      1400889600  B00JZSDW8A   \n",
       "10250  A38VCIVAE3OXD3      1405987200  B00K0BPFY0   \n",
       "10251  A34BZM6S9L7QI4      1403308800  B00K5T4NHC   \n",
       "10252  A1M1Y5UGONAW06      1405641600  B00K8J06CK   \n",
       "10253  A2NOW4U7W3F7RI      1403568000  B00KGCLROK   \n",
       "\n",
       "                                                    text  \\\n",
       "0      This was a gift for a two year old and a five ...   \n",
       "1      I really enjoy the Rosetta Stone software; it'...   \n",
       "2      Nice fit, looks like the picture. Delivered pr...   \n",
       "3      I now have several in white, red, and black......   \n",
       "4      These run bigger than normal tennis shoes...my...   \n",
       "...                                                  ...   \n",
       "10249  These are as pretty in person as they are on h...   \n",
       "10250  Lots of compliments on this shirt.  At 5'3&#34...   \n",
       "10251  I slipped this in among my son's other moistur...   \n",
       "10252  I'm a huge fan of  Azules, and wear an Azules ...   \n",
       "10253  These are cozy and complements well for yoga. ...   \n",
       "\n",
       "                                                sentence  \n",
       "0                                                    NaN  \n",
       "1                                                    NaN  \n",
       "2                                                    NaN  \n",
       "3                                                    NaN  \n",
       "4                                                    NaN  \n",
       "...                                                  ...  \n",
       "10249                                                NaN  \n",
       "10250                                                NaN  \n",
       "10251  [(size, true, true to size and a great value, 1)]  \n",
       "10252                                                NaN  \n",
       "10253                                                NaN  \n",
       "\n",
       "[10254 rows x 5 columns]"
      ]
     },
     "execution_count": 28,
     "metadata": {},
     "output_type": "execute_result"
    }
   ],
   "source": [
    "df"
   ]
  },
  {
   "cell_type": "code",
   "execution_count": 4,
   "id": "40a0d5b2",
   "metadata": {},
   "outputs": [],
   "source": [
    "t_args = arg_parse_train_base()\n",
    "exp_args = arg_parse_exp_optimize()\n",
    "ap = arg_parser_preprocessing()"
   ]
  },
  {
   "cell_type": "code",
   "execution_count": 27,
   "id": "92229c89",
   "metadata": {},
   "outputs": [
    {
     "name": "stdout",
     "output_type": "stream",
     "text": [
      "             user  unixReviewTime        item  \\\n",
      "0   AJ6B83I4YJHYW      1372636800  0000031887   \n",
      "1  A1R377IPZOKLMM      1284768000  1608299953   \n",
      "2  A122XGIAS5WN57      1379894400  B00006XXGO   \n",
      "3   A3KR8RNNPF2XY      1403222400  B00006XXGO   \n",
      "4  A2TY9KJ0B5LI0P      1355270400  B000072UMJ   \n",
      "\n",
      "                                                text sentence  \n",
      "0  This was a gift for a two year old and a five ...      NaN  \n",
      "1  I really enjoy the Rosetta Stone software; it'...      NaN  \n",
      "2  Nice fit, looks like the picture. Delivered pr...      NaN  \n",
      "3  I now have several in white, red, and black......      NaN  \n",
      "4  These run bigger than normal tennis shoes...my...      NaN  \n"
     ]
    },
    {
     "data": {
      "text/plain": [
       "user                 0\n",
       "unixReviewTime       0\n",
       "item                 0\n",
       "text                 0\n",
       "sentence          7043\n",
       "dtype: int64"
      ]
     },
     "execution_count": 27,
     "metadata": {},
     "output_type": "execute_result"
    }
   ],
   "source": [
    "df = pd.DataFrame(loaded_object)\n",
    "print(df.head(5))\n",
    "\n",
    "# Custom function to replace NaN with empty list\n",
    "df.isna().sum()"
   ]
  },
  {
   "cell_type": "code",
   "execution_count": 9,
   "id": "92380eb6",
   "metadata": {},
   "outputs": [
    {
     "data": {
      "text/html": [
       "<div>\n",
       "<style scoped>\n",
       "    .dataframe tbody tr th:only-of-type {\n",
       "        vertical-align: middle;\n",
       "    }\n",
       "\n",
       "    .dataframe tbody tr th {\n",
       "        vertical-align: top;\n",
       "    }\n",
       "\n",
       "    .dataframe thead th {\n",
       "        text-align: right;\n",
       "    }\n",
       "</style>\n",
       "<table border=\"1\" class=\"dataframe\">\n",
       "  <thead>\n",
       "    <tr style=\"text-align: right;\">\n",
       "      <th></th>\n",
       "      <th>user</th>\n",
       "      <th>unixReviewTime</th>\n",
       "      <th>item</th>\n",
       "      <th>text</th>\n",
       "      <th>sentence</th>\n",
       "    </tr>\n",
       "  </thead>\n",
       "  <tbody>\n",
       "    <tr>\n",
       "      <th>0</th>\n",
       "      <td>ATX7CZYFXI1KW</td>\n",
       "      <td>1365552000</td>\n",
       "      <td>B00A8ZEG0C</td>\n",
       "      <td>Awesome - lots of bling and holds in phone nic...</td>\n",
       "      <td>[(phone, nice, Awesome - lots of bling and hol...</td>\n",
       "    </tr>\n",
       "    <tr>\n",
       "      <th>1</th>\n",
       "      <td>A2R99I2RXNYT8A</td>\n",
       "      <td>1375142400</td>\n",
       "      <td>B00A8ZEG0C</td>\n",
       "      <td>I really lie this dust plug it fits well in my...</td>\n",
       "      <td>NaN</td>\n",
       "    </tr>\n",
       "    <tr>\n",
       "      <th>2</th>\n",
       "      <td>ATX7CZYFXI1KW</td>\n",
       "      <td>1359849600</td>\n",
       "      <td>B006RBZ6LE</td>\n",
       "      <td>Perfect color.  Nice addition to the I-phone f...</td>\n",
       "      <td>NaN</td>\n",
       "    </tr>\n",
       "    <tr>\n",
       "      <th>3</th>\n",
       "      <td>ATX7CZYFXI1KW</td>\n",
       "      <td>1359849600</td>\n",
       "      <td>B005KDRA5K</td>\n",
       "      <td>Nice case - all in the bling that I was lookin...</td>\n",
       "      <td>[(protector, hard, Apple iPhone 4 and 4S snap ...</td>\n",
       "    </tr>\n",
       "    <tr>\n",
       "      <th>4</th>\n",
       "      <td>A36Y6BFEEGBP5X</td>\n",
       "      <td>1363910400</td>\n",
       "      <td>B005KDRA5K</td>\n",
       "      <td>This case protects the front and back and look...</td>\n",
       "      <td>[(looks, good, This case protects the front an...</td>\n",
       "    </tr>\n",
       "    <tr>\n",
       "      <th>...</th>\n",
       "      <td>...</td>\n",
       "      <td>...</td>\n",
       "      <td>...</td>\n",
       "      <td>...</td>\n",
       "      <td>...</td>\n",
       "    </tr>\n",
       "    <tr>\n",
       "      <th>2998</th>\n",
       "      <td>A1DGB6HY5C7LXU</td>\n",
       "      <td>1398902400</td>\n",
       "      <td>B00JMO1V3A</td>\n",
       "      <td>I love this cover by Fosmon.  It's easy to ins...</td>\n",
       "      <td>[(product, great, Thanks for the great product...</td>\n",
       "    </tr>\n",
       "    <tr>\n",
       "      <th>2999</th>\n",
       "      <td>A382P8ZWX1JDP1</td>\n",
       "      <td>1398297600</td>\n",
       "      <td>B00JMO1V3A</td>\n",
       "      <td>The built in screen is pretty awesome. I love ...</td>\n",
       "      <td>NaN</td>\n",
       "    </tr>\n",
       "    <tr>\n",
       "      <th>3000</th>\n",
       "      <td>A1Q0J72AMYGTNT</td>\n",
       "      <td>1400198400</td>\n",
       "      <td>B00JMO1V3A</td>\n",
       "      <td>This case was easy to put on my phone and has ...</td>\n",
       "      <td>NaN</td>\n",
       "    </tr>\n",
       "    <tr>\n",
       "      <th>3001</th>\n",
       "      <td>A382P8ZWX1JDP1</td>\n",
       "      <td>1398556800</td>\n",
       "      <td>B00J340RVG</td>\n",
       "      <td>Really great quality for the cost. Works just ...</td>\n",
       "      <td>NaN</td>\n",
       "    </tr>\n",
       "    <tr>\n",
       "      <th>3002</th>\n",
       "      <td>A382P8ZWX1JDP1</td>\n",
       "      <td>1398297600</td>\n",
       "      <td>B00IN9BZA4</td>\n",
       "      <td>Anti glare is right! Most of the other product...</td>\n",
       "      <td>NaN</td>\n",
       "    </tr>\n",
       "  </tbody>\n",
       "</table>\n",
       "<p>3003 rows × 5 columns</p>\n",
       "</div>"
      ],
      "text/plain": [
       "                user  unixReviewTime        item  \\\n",
       "0      ATX7CZYFXI1KW      1365552000  B00A8ZEG0C   \n",
       "1     A2R99I2RXNYT8A      1375142400  B00A8ZEG0C   \n",
       "2      ATX7CZYFXI1KW      1359849600  B006RBZ6LE   \n",
       "3      ATX7CZYFXI1KW      1359849600  B005KDRA5K   \n",
       "4     A36Y6BFEEGBP5X      1363910400  B005KDRA5K   \n",
       "...              ...             ...         ...   \n",
       "2998  A1DGB6HY5C7LXU      1398902400  B00JMO1V3A   \n",
       "2999  A382P8ZWX1JDP1      1398297600  B00JMO1V3A   \n",
       "3000  A1Q0J72AMYGTNT      1400198400  B00JMO1V3A   \n",
       "3001  A382P8ZWX1JDP1      1398556800  B00J340RVG   \n",
       "3002  A382P8ZWX1JDP1      1398297600  B00IN9BZA4   \n",
       "\n",
       "                                                   text  \\\n",
       "0     Awesome - lots of bling and holds in phone nic...   \n",
       "1     I really lie this dust plug it fits well in my...   \n",
       "2     Perfect color.  Nice addition to the I-phone f...   \n",
       "3     Nice case - all in the bling that I was lookin...   \n",
       "4     This case protects the front and back and look...   \n",
       "...                                                 ...   \n",
       "2998  I love this cover by Fosmon.  It's easy to ins...   \n",
       "2999  The built in screen is pretty awesome. I love ...   \n",
       "3000  This case was easy to put on my phone and has ...   \n",
       "3001  Really great quality for the cost. Works just ...   \n",
       "3002  Anti glare is right! Most of the other product...   \n",
       "\n",
       "                                               sentence  \n",
       "0     [(phone, nice, Awesome - lots of bling and hol...  \n",
       "1                                                   NaN  \n",
       "2                                                   NaN  \n",
       "3     [(protector, hard, Apple iPhone 4 and 4S snap ...  \n",
       "4     [(looks, good, This case protects the front an...  \n",
       "...                                                 ...  \n",
       "2998  [(product, great, Thanks for the great product...  \n",
       "2999                                                NaN  \n",
       "3000                                                NaN  \n",
       "3001                                                NaN  \n",
       "3002                                                NaN  \n",
       "\n",
       "[3003 rows x 5 columns]"
      ]
     },
     "execution_count": 9,
     "metadata": {},
     "output_type": "execute_result"
    }
   ],
   "source": [
    "df"
   ]
  },
  {
   "cell_type": "code",
   "execution_count": 8,
   "id": "6ea56038",
   "metadata": {},
   "outputs": [],
   "source": [
    "df = df.fillna(0)"
   ]
  },
  {
   "cell_type": "code",
   "execution_count": 20,
   "id": "35cbe95a",
   "metadata": {},
   "outputs": [
    {
     "name": "stdout",
     "output_type": "stream",
     "text": [
      "Review: awesome! stays on, and looks great. can be used on multiple apple products.  especially having nails, it helps to have an elevated key.\n",
      "Result: [('looks', 'great', 'and looks great', 1)]\n"
     ]
    }
   ],
   "source": [
    "print(\"Review:\", df[df['sentence']!=0]['text'][0])\n",
    "print(\"Result:\",df[df['sentence']!=0]['sentence'][0])"
   ]
  },
  {
   "cell_type": "code",
   "execution_count": 11,
   "id": "4cc74bbd",
   "metadata": {},
   "outputs": [
    {
     "data": {
      "text/plain": [
       "user              0\n",
       "unixReviewTime    0\n",
       "item              0\n",
       "text              0\n",
       "sentence          0\n",
       "dtype: int64"
      ]
     },
     "execution_count": 11,
     "metadata": {},
     "output_type": "execute_result"
    }
   ],
   "source": [
    "df.isna().sum()"
   ]
  },
  {
   "cell_type": "code",
   "execution_count": 12,
   "id": "622b95f1",
   "metadata": {},
   "outputs": [],
   "source": [
    "from re import S\n",
    "import torch\n",
    "import numpy as np\n",
    "import json\n",
    "import pickle\n",
    "# from torch._C import R\n",
    "import tqdm\n",
    "from torch.random import seed\n",
    "from utils.functions import sentiment_data_filtering, get_user_item_dict, get_feature_list, \\\n",
    "    get_user_attention_matrix, get_item_quality_matrix, sample_training_pairs\n",
    "\n",
    "\n",
    "class AmazonDataset():\n",
    "    def __init__(self, preprocessing_args):\n",
    "        super().__init__()\n",
    "        self.args = preprocessing_args\n",
    "        self.sentiment_data = None  # [userID, itemID, [fos triplet 1], [fos triplet 2], ...]\n",
    "\n",
    "        self.user_name_dict = {}  # rename users to integer names\n",
    "        self.item_name_dict = {}\n",
    "        self.feature_name_dict = {}\n",
    "\n",
    "        self.features = []  # feature list\n",
    "        self.users = []\n",
    "        self.items = []\n",
    "\n",
    "        # the interacted items for each user, sorted with date {user:[i1, i2, i3, ...], user:[i1, i2, i3, ...]}\n",
    "        self.user_hist_inter_dict = {}\n",
    "        # the interacted users for each item\n",
    "        self.item_hist_inter_dict = {}  \n",
    "\n",
    "        self.user_num = None\n",
    "        self.item_num = None\n",
    "        self.feature_num = None  # number of features\n",
    "\n",
    "        self.user_feature_matrix = None  # user aspect attention matrix\n",
    "        self.item_feature_matrix = None  # item aspect quality matrix\n",
    "\n",
    "        self.training_data = None\n",
    "        self.test_data = None\n",
    "        self.pre_processing()\n",
    "        self.get_user_item_feature_matrix()\n",
    "        self.sample_training()  # sample training data, for traning BPR loss\n",
    "        self.sample_test()  # sample test data\n",
    "\n",
    "    def pre_processing(self,):\n",
    "        sentiment_data = []\n",
    "        for index, row in df.iterrows():\n",
    "            user = row['user']\n",
    "            item = row['item']\n",
    "            sentiment_data.append([user, item])\n",
    "            fosr_data = row['sentence']\n",
    "            if fosr_data == 0:\n",
    "                fosr_data = []\n",
    "                continue\n",
    "            for all in fosr_data:\n",
    "                sentiment = all[3]\n",
    "                if sentiment == 1:\n",
    "                    sentiment = \"+1\"\n",
    "                elif sentiment == -1:\n",
    "                    sentiment = \"-1\"\n",
    "                if sentiment != \"+1\" and sentiment != \"-1\":\n",
    "                    continue\n",
    "                sentiment_data[-1].append([all[0], all[1], sentiment])\n",
    "#                 print(sentiment_data)\n",
    "        # Appending data to sentiment_data\n",
    "        sentiment_data = np.array(sentiment_data)\n",
    "        sentiment_data = sentiment_data_filtering(\n",
    "            sentiment_data, \n",
    "            self.args.user_thresh, \n",
    "            self.args.feature_thresh)\n",
    "        user_dict, item_dict = get_user_item_dict(sentiment_data)  # not sorted with time\n",
    "        user_item_date_dict = {}   # {(user, item): date, (user, item): date ...}  # used to remove duplicate\n",
    "\n",
    "        for index, record in df.iterrows():\n",
    "            user = record['user']\n",
    "            item = record['item']\n",
    "            date = record['unixReviewTime']\n",
    "            if user in user_dict and item in user_dict[user] and (user, item) not in user_item_date_dict:\n",
    "                user_item_date_dict[(user, item)] = date\n",
    "\n",
    "        # remove the (user, item) not exist in the official dataset, possibly due to update?\n",
    "        sentiment_data = [row for row in sentiment_data if (row[0], row[1]) in user_item_date_dict]\n",
    "        sentiment_data = sentiment_data_filtering(sentiment_data, self.args.user_thresh, self.args.feature_thresh)\n",
    "        user_dict, item_dict = get_user_item_dict(sentiment_data)\n",
    "        for key in list(user_item_date_dict.keys()):\n",
    "            if key[0] not in user_dict or key[1] not in user_dict[key[0]]:\n",
    "                del user_item_date_dict[key]\n",
    "        \n",
    "        # rename users, items, and features to integer names\n",
    "        user_name_dict = {}\n",
    "        item_name_dict = {}\n",
    "        feature_name_dict = {}\n",
    "        features = get_feature_list(sentiment_data)\n",
    "        \n",
    "        count = 0\n",
    "        for user in user_dict:\n",
    "            if user not in user_name_dict:\n",
    "                user_name_dict[user] = count\n",
    "                count += 1\n",
    "        count = 0\n",
    "        for item in item_dict:\n",
    "            if item not in item_name_dict:\n",
    "                item_name_dict[item] = count\n",
    "                count += 1\n",
    "        count = 0\n",
    "        for feature in features:\n",
    "            if feature not in feature_name_dict:\n",
    "                feature_name_dict[feature] = count\n",
    "                count += 1\n",
    "        \n",
    "        for i in range(len(sentiment_data)):\n",
    "            sentiment_data[i][0] = user_name_dict[sentiment_data[i][0]]\n",
    "            sentiment_data[i][1] = item_name_dict[sentiment_data[i][1]]\n",
    "            for j in range(len(sentiment_data[i]) - 2):\n",
    "                sentiment_data[i][j+2][0] = feature_name_dict[sentiment_data[i][j + 2][0]]\n",
    "\n",
    "        renamed_user_item_date_dict = {}\n",
    "        for key, value in user_item_date_dict.items():\n",
    "            renamed_user_item_date_dict[user_name_dict[key[0]], item_name_dict[key[1]]] = value\n",
    "        user_item_date_dict = renamed_user_item_date_dict\n",
    "\n",
    "        # sort with date\n",
    "        user_item_date_dict = dict(sorted(user_item_date_dict.items(), key=lambda item: item[1]))\n",
    "\n",
    "        user_hist_inter_dict = {}  # {\"u1\": [i1, i2, i3, ...], \"u2\": [i1, i2, i3, ...]}, sort with time\n",
    "        item_hist_inter_dict = {}\n",
    "        # ranked_user_item_dict = {}  # {\"u1\": [i1, i2, i3, ...], \"u2\": [i1, i2, i3, ...]}\n",
    "        for key, value in user_item_date_dict.items():\n",
    "            user = key[0]\n",
    "            item = key[1]\n",
    "            if user not in user_hist_inter_dict:\n",
    "                user_hist_inter_dict[user] = [item]\n",
    "            else:\n",
    "                user_hist_inter_dict[user].append(item)\n",
    "            if item not in item_hist_inter_dict:\n",
    "                item_hist_inter_dict[item] = [user]\n",
    "            else:\n",
    "                item_hist_inter_dict[item].append(user)\n",
    "\n",
    "        user_hist_inter_dict = dict(sorted(user_hist_inter_dict.items()))\n",
    "        item_hist_inter_dict = dict(sorted(item_hist_inter_dict.items()))\n",
    "\n",
    "        users = list(user_hist_inter_dict.keys())\n",
    "        items = list(item_hist_inter_dict.keys())\n",
    "\n",
    "        self.sentiment_data = sentiment_data\n",
    "        self.user_name_dict = user_name_dict\n",
    "        self.item_name_dict = item_name_dict\n",
    "        self.feature_name_dict = feature_name_dict\n",
    "        self.user_hist_inter_dict = user_hist_inter_dict\n",
    "        self.item_hist_inter_dict = item_hist_inter_dict\n",
    "        self.users = users\n",
    "        self.items = items\n",
    "        self.features = features\n",
    "        self.user_num = len(users)\n",
    "        self.item_num = len(items)\n",
    "        self.feature_num = len(features)\n",
    "        return True\n",
    "    \n",
    "    def get_user_item_feature_matrix(self,):\n",
    "        # exclude test data from the sentiment data to construct matrix\n",
    "        train_u_i_set = set()\n",
    "        for user, items in self.user_hist_inter_dict.items():\n",
    "            items = items[:-self.args.test_length]\n",
    "            for item in items:\n",
    "                train_u_i_set.add((user, item))\n",
    "\n",
    "        train_sentiment_data = []\n",
    "        for row in self.sentiment_data:\n",
    "            user = row[0]\n",
    "            item = row[1]\n",
    "            if (user, item) in train_u_i_set:\n",
    "                train_sentiment_data.append(row)\n",
    "        self.user_feature_matrix = get_user_attention_matrix(\n",
    "            train_sentiment_data, \n",
    "            self.user_num, \n",
    "            self.features, \n",
    "            max_range=5)\n",
    "        self.item_feature_matrix = get_item_quality_matrix(\n",
    "            train_sentiment_data, \n",
    "            self.item_num, \n",
    "            self.features, \n",
    "            max_range=5)\n",
    "        return True\n",
    "    \n",
    "    def sample_training(self):\n",
    "        print('======================= sample training data =======================')\n",
    "        # print(self.user_feature_matrix.shape, self.item_feature_matrix.shape)\n",
    "        training_data = []\n",
    "        item_set = set(self.items)\n",
    "        for user, items in self.user_hist_inter_dict.items():\n",
    "            items = items[:-(self.args.test_length+self.args.val_length)]\n",
    "            training_pairs = sample_training_pairs(\n",
    "                user, \n",
    "                items, \n",
    "                item_set, \n",
    "                self.args.sample_ratio)\n",
    "            for pair in training_pairs:\n",
    "                training_data.append(pair)\n",
    "        print('# training samples :', len(training_data))\n",
    "        self.training_data = np.array(training_data)\n",
    "        return True\n",
    "    \n",
    "    def sample_test(self):\n",
    "        print('======================= sample test data =======================')\n",
    "        user_item_label_list = []  # [[u, [item1, item2, ...], [l1, l2, ...]], ...]\n",
    "        for user, items in self.user_hist_inter_dict.items():\n",
    "            items = items[-(self.args.test_length+self.args.val_length):]\n",
    "            user_item_label_list.append([user, items, np.ones(len(items))])  # add the test items\n",
    "            negative_items = [item for item in self.items if \n",
    "                item not in self.user_hist_inter_dict[user]]  # the not interacted items\n",
    "            negative_items = np.random.choice(np.array(negative_items), self.args.neg_length, replace=False)\n",
    "            user_item_label_list[-1][1] = np.concatenate((user_item_label_list[-1][1], negative_items), axis=0)\n",
    "            user_item_label_list[-1][2] = np.concatenate((user_item_label_list[-1][2], np.zeros(self.args.neg_length)), axis=0)\n",
    "        print('# test samples :', len(user_item_label_list))\n",
    "        self.test_data = np.array(user_item_label_list)\n",
    "        return True\n",
    "\n",
    "    def save(self, save_path):\n",
    "        return True\n",
    "    \n",
    "    def load(self):\n",
    "        return False\n",
    "\n",
    "\n",
    "def amazon_preprocessing(pre_processing_args):\n",
    "    rec_dataset = AmazonDataset(pre_processing_args)\n",
    "    return rec_dataset"
   ]
  },
  {
   "cell_type": "code",
   "execution_count": 13,
   "id": "df5f924b",
   "metadata": {
    "scrolled": true
   },
   "outputs": [
    {
     "name": "stderr",
     "output_type": "stream",
     "text": [
      "/tmp/ipykernel_6505/3425732973.py:86: VisibleDeprecationWarning: Creating an ndarray from ragged nested sequences (which is a list-or-tuple of lists-or-tuples-or ndarrays with different lengths or shapes) is deprecated. If you meant to do this, you must specify 'dtype=object' when creating the ndarray.\n",
      "  sentiment_data = np.array(sentiment_data)\n"
     ]
    },
    {
     "name": "stdout",
     "output_type": "stream",
     "text": [
      "======================= filtering sentiment data =======================\n",
      "original review length:  3003\n",
      "original user length:  254\n",
      "original item length:  2062\n",
      "original feature length:  32\n",
      "valid review length:  472\n",
      "valid user:  203\n",
      "valid item :  421\n",
      "valid feature length:  12\n",
      "user dense is: 2.3251231527093594\n",
      "======================= filtering sentiment data =======================\n",
      "original review length:  472\n",
      "original user length:  203\n",
      "original item length:  421\n",
      "original feature length:  12\n",
      "valid review length:  472\n",
      "valid user:  203\n",
      "valid item :  421\n",
      "valid feature length:  12\n",
      "user dense is: 2.3251231527093594\n",
      "======================= sample training data =======================\n",
      "# training samples : 538\n",
      "======================= sample test data =======================\n",
      "# test samples : 203\n"
     ]
    },
    {
     "name": "stderr",
     "output_type": "stream",
     "text": [
      "/home/amparikh/Untitled Folder/utils/functions.py:19: VisibleDeprecationWarning: Creating an ndarray from ragged nested sequences (which is a list-or-tuple of lists-or-tuples-or ndarrays with different lengths or shapes) is deprecated. If you meant to do this, you must specify 'dtype=object' when creating the ndarray.\n",
      "  sentiment_data = np.array(sentiment_data)\n",
      "/home/amparikh/Untitled Folder/utils/functions.py:76: VisibleDeprecationWarning: Creating an ndarray from ragged nested sequences (which is a list-or-tuple of lists-or-tuples-or ndarrays with different lengths or shapes) is deprecated. If you meant to do this, you must specify 'dtype=object' when creating the ndarray.\n",
      "  sentiment_data = np.array(sentiment_data)\n",
      "/tmp/ipykernel_6505/3425732973.py:236: VisibleDeprecationWarning: Creating an ndarray from ragged nested sequences (which is a list-or-tuple of lists-or-tuples-or ndarrays with different lengths or shapes) is deprecated. If you meant to do this, you must specify 'dtype=object' when creating the ndarray.\n",
      "  self.test_data = np.array(user_item_label_list)\n"
     ]
    },
    {
     "data": {
      "text/plain": [
       "<__main__.AmazonDataset at 0x7f12f5b14cd0>"
      ]
     },
     "execution_count": 13,
     "metadata": {},
     "output_type": "execute_result"
    }
   ],
   "source": [
    "amazon_preprocessing(ap)"
   ]
  },
  {
   "cell_type": "code",
   "execution_count": 14,
   "id": "1fa61bd8",
   "metadata": {},
   "outputs": [],
   "source": [
    "import torch\n",
    "import numpy as np\n",
    "import os\n",
    "import tqdm\n",
    "import pickle\n",
    "from pathlib import Path\n",
    "from torch.utils.data import DataLoader\n",
    "from utils.argument_amazon import arg_parse_train_base, arg_parser_preprocessing\n",
    "from models.data_loaders import UserItemInterDataset\n",
    "from models.models import BaseRecModel\n",
    "from utils.evaluate_functions import compute_ndcg\n",
    "\n",
    "def train_base_recommendation(train_args, pre_processing_args):\n",
    "    if exp_args.gpu:\n",
    "        device = torch.device('cuda:%s' % exp_args.cuda)\n",
    "    else:\n",
    "        device = 'cpu'\n",
    "    rec_dataset = amazon_preprocessing(pre_processing_args)\n",
    "    Path(pre_processing_args.save_path).mkdir(parents=True, exist_ok=True)\n",
    "    with open(os.path.join(pre_processing_args.save_path, pre_processing_args.dataset + \"_dataset_obj.pickle\"), 'wb') as outp:\n",
    "        pickle.dump(rec_dataset, outp, pickle.HIGHEST_PROTOCOL)\n",
    "\n",
    "    train_loader = DataLoader(dataset=UserItemInterDataset(rec_dataset.training_data, \n",
    "                                rec_dataset.user_feature_matrix, \n",
    "                                rec_dataset.item_feature_matrix),\n",
    "                          batch_size=train_args.batch_size,\n",
    "                          shuffle=True)\n",
    "\n",
    "    model = BaseRecModel(rec_dataset.feature_num).to(device)\n",
    "    loss_fn = torch.nn.BCELoss()\n",
    "    optimizer = torch.optim.SGD(model.parameters(), lr=train_args.lr, weight_decay=train_args.weight_decay)\n",
    "\n",
    "    out_path = os.path.join(\"./logs\", train_args.dataset + \"_logs\")\n",
    "    Path(out_path).mkdir(parents=True, exist_ok=True)\n",
    "\n",
    "    ndcg = compute_ndcg(rec_dataset.test_data, \n",
    "            rec_dataset.user_feature_matrix, \n",
    "            rec_dataset.item_feature_matrix, \n",
    "            train_args.rec_k, \n",
    "            model, \n",
    "            device)\n",
    "    print('init ndcg:', ndcg)\n",
    "    for epoch in tqdm.trange(train_args.epoch):\n",
    "        model.train()\n",
    "        optimizer.zero_grad()\n",
    "        losses = []\n",
    "        for user_behaviour_feature, item_aspect_feature, label in train_loader:\n",
    "            user_behaviour_feature = user_behaviour_feature.to(device)\n",
    "            item_aspect_feature = item_aspect_feature.to(device)\n",
    "            label = label.float().to(device)\n",
    "            out = model(user_behaviour_feature, item_aspect_feature).squeeze()\n",
    "            loss = loss_fn(out, label)\n",
    "            loss.backward()\n",
    "            optimizer.step()\n",
    "            optimizer.zero_grad()\n",
    "            losses.append(loss.to('cpu').detach().numpy())\n",
    "            ave_train = np.mean(np.array(losses))\n",
    "        print('epoch %d: ' % epoch, 'training loss: ', ave_train)\n",
    "        # compute necg\n",
    "        if epoch % 10 == 0:\n",
    "            ndcg = compute_ndcg(rec_dataset.test_data, \n",
    "            rec_dataset.user_feature_matrix, \n",
    "            rec_dataset.item_feature_matrix, \n",
    "            train_args.rec_k, \n",
    "            model, \n",
    "            device)\n",
    "            print('epoch %d: ' % epoch, 'training loss: ', ave_train, 'NDCG: ', ndcg)\n",
    "    torch.save(model.state_dict(), os.path.join(out_path, \"model.model\"))\n",
    "    return 0\n",
    "\n"
   ]
  },
  {
   "cell_type": "code",
   "execution_count": 15,
   "id": "4b857674",
   "metadata": {
    "scrolled": false
   },
   "outputs": [
    {
     "name": "stdout",
     "output_type": "stream",
     "text": [
      "Using CUDA 0\n"
     ]
    },
    {
     "name": "stderr",
     "output_type": "stream",
     "text": [
      "/tmp/ipykernel_6505/3425732973.py:86: VisibleDeprecationWarning: Creating an ndarray from ragged nested sequences (which is a list-or-tuple of lists-or-tuples-or ndarrays with different lengths or shapes) is deprecated. If you meant to do this, you must specify 'dtype=object' when creating the ndarray.\n",
      "  sentiment_data = np.array(sentiment_data)\n"
     ]
    },
    {
     "name": "stdout",
     "output_type": "stream",
     "text": [
      "======================= filtering sentiment data =======================\n",
      "original review length:  3003\n",
      "original user length:  254\n",
      "original item length:  2062\n",
      "original feature length:  32\n",
      "valid review length:  472\n",
      "valid user:  203\n",
      "valid item :  421\n",
      "valid feature length:  12\n",
      "user dense is: 2.3251231527093594\n",
      "======================= filtering sentiment data =======================\n",
      "original review length:  472\n",
      "original user length:  203\n",
      "original item length:  421\n",
      "original feature length:  12\n",
      "valid review length:  472\n",
      "valid user:  203\n",
      "valid item :  421\n",
      "valid feature length:  12\n",
      "user dense is: 2.3251231527093594\n",
      "======================= sample training data =======================\n",
      "# training samples : 538\n",
      "======================= sample test data =======================\n",
      "# test samples : 203\n"
     ]
    },
    {
     "name": "stderr",
     "output_type": "stream",
     "text": [
      "/home/amparikh/Untitled Folder/utils/functions.py:19: VisibleDeprecationWarning: Creating an ndarray from ragged nested sequences (which is a list-or-tuple of lists-or-tuples-or ndarrays with different lengths or shapes) is deprecated. If you meant to do this, you must specify 'dtype=object' when creating the ndarray.\n",
      "  sentiment_data = np.array(sentiment_data)\n",
      "/home/amparikh/Untitled Folder/utils/functions.py:76: VisibleDeprecationWarning: Creating an ndarray from ragged nested sequences (which is a list-or-tuple of lists-or-tuples-or ndarrays with different lengths or shapes) is deprecated. If you meant to do this, you must specify 'dtype=object' when creating the ndarray.\n",
      "  sentiment_data = np.array(sentiment_data)\n",
      "/tmp/ipykernel_6505/3425732973.py:236: VisibleDeprecationWarning: Creating an ndarray from ragged nested sequences (which is a list-or-tuple of lists-or-tuples-or ndarrays with different lengths or shapes) is deprecated. If you meant to do this, you must specify 'dtype=object' when creating the ndarray.\n",
      "  self.test_data = np.array(user_item_label_list)\n"
     ]
    },
    {
     "name": "stdout",
     "output_type": "stream",
     "text": [
      "init ndcg: 0.008698861623275326\n"
     ]
    },
    {
     "name": "stderr",
     "output_type": "stream",
     "text": [
      "  0%|          | 0/500 [00:00<?, ?it/s]"
     ]
    },
    {
     "name": "stdout",
     "output_type": "stream",
     "text": [
      "epoch 0:  training loss:  0.69242907\n"
     ]
    },
    {
     "name": "stderr",
     "output_type": "stream",
     "text": [
      "  1%|          | 5/500 [00:00<00:43, 11.43it/s]"
     ]
    },
    {
     "name": "stdout",
     "output_type": "stream",
     "text": [
      "epoch 0:  training loss:  0.69242907 NDCG:  0.0075160078760650026\n",
      "epoch 1:  training loss:  0.6860008\n",
      "epoch 2:  training loss:  0.6822431\n",
      "epoch 3:  training loss:  0.6754282\n",
      "epoch 4:  training loss:  0.6720386\n",
      "epoch 5:  training loss:  0.66921\n",
      "epoch 6:  training loss:  0.66340655\n"
     ]
    },
    {
     "name": "stderr",
     "output_type": "stream",
     "text": [
      "  2%|▏         | 8/500 [00:00<00:30, 16.08it/s]"
     ]
    },
    {
     "name": "stdout",
     "output_type": "stream",
     "text": [
      "epoch 7:  training loss:  0.66113335\n",
      "epoch 8:  training loss:  0.65474397\n",
      "epoch 9:  training loss:  0.6525254\n",
      "epoch 10:  training loss:  0.6486255\n"
     ]
    },
    {
     "name": "stderr",
     "output_type": "stream",
     "text": [
      "  3%|▎         | 14/500 [00:01<00:32, 14.74it/s]"
     ]
    },
    {
     "name": "stdout",
     "output_type": "stream",
     "text": [
      "epoch 10:  training loss:  0.6486255 NDCG:  0.0051065688921886\n",
      "epoch 11:  training loss:  0.643121\n",
      "epoch 12:  training loss:  0.6411843\n",
      "epoch 13:  training loss:  0.6341112\n",
      "epoch 14:  training loss:  0.62930626\n",
      "epoch 15:  training loss:  0.62526584\n",
      "epoch 16:  training loss:  0.6255564\n"
     ]
    },
    {
     "name": "stderr",
     "output_type": "stream",
     "text": [
      "  4%|▎         | 18/500 [00:01<00:24, 19.38it/s]"
     ]
    },
    {
     "name": "stdout",
     "output_type": "stream",
     "text": [
      "epoch 17:  training loss:  0.6176135\n",
      "epoch 18:  training loss:  0.6116164\n",
      "epoch 19:  training loss:  0.60699195\n",
      "epoch 20:  training loss:  0.6044848\n"
     ]
    },
    {
     "name": "stderr",
     "output_type": "stream",
     "text": [
      "  5%|▌         | 25/500 [00:01<00:26, 17.86it/s]"
     ]
    },
    {
     "name": "stdout",
     "output_type": "stream",
     "text": [
      "epoch 20:  training loss:  0.6044848 NDCG:  0.0036016732019312782\n",
      "epoch 21:  training loss:  0.59912455\n",
      "epoch 22:  training loss:  0.5927972\n",
      "epoch 23:  training loss:  0.58993226\n",
      "epoch 24:  training loss:  0.58510274\n",
      "epoch 25:  training loss:  0.580878\n",
      "epoch 26:  training loss:  0.57259184\n",
      "epoch 27:  training loss:  0.568784\n"
     ]
    },
    {
     "name": "stderr",
     "output_type": "stream",
     "text": [
      "  6%|▌         | 29/500 [00:01<00:21, 21.93it/s]"
     ]
    },
    {
     "name": "stdout",
     "output_type": "stream",
     "text": [
      "epoch 28:  training loss:  0.569504\n",
      "epoch 29:  training loss:  0.56053674\n",
      "epoch 30:  training loss:  0.55938554\n"
     ]
    },
    {
     "name": "stderr",
     "output_type": "stream",
     "text": [
      "  8%|▊         | 38/500 [00:02<00:20, 22.39it/s]"
     ]
    },
    {
     "name": "stdout",
     "output_type": "stream",
     "text": [
      "epoch 30:  training loss:  0.55938554 NDCG:  0.0032008900388164735\n",
      "epoch 31:  training loss:  0.54656506\n",
      "epoch 32:  training loss:  0.545797\n",
      "epoch 33:  training loss:  0.53744334\n",
      "epoch 34:  training loss:  0.5350177\n",
      "epoch 35:  training loss:  0.5266673\n",
      "epoch 36:  training loss:  0.5205959\n",
      "epoch 37:  training loss:  0.5158879\n",
      "epoch 38:  training loss:  0.5130439\n",
      "epoch 39:  training loss:  0.5094622\n",
      "epoch 40:  training loss:  0.50954264\n"
     ]
    },
    {
     "name": "stderr",
     "output_type": "stream",
     "text": [
      "  9%|▉         | 46/500 [00:02<00:22, 20.25it/s]"
     ]
    },
    {
     "name": "stdout",
     "output_type": "stream",
     "text": [
      "epoch 40:  training loss:  0.50954264 NDCG:  0.0032008900388164735\n",
      "epoch 41:  training loss:  0.49579483\n",
      "epoch 42:  training loss:  0.4966315\n",
      "epoch 43:  training loss:  0.48567376\n",
      "epoch 44:  training loss:  0.47886643\n",
      "epoch 45:  training loss:  0.47670254\n",
      "epoch 46:  training loss:  0.46993482\n",
      "epoch 47:  training loss:  0.4664927\n"
     ]
    },
    {
     "name": "stderr",
     "output_type": "stream",
     "text": [
      " 10%|█         | 50/500 [00:02<00:19, 22.66it/s]"
     ]
    },
    {
     "name": "stdout",
     "output_type": "stream",
     "text": [
      "epoch 48:  training loss:  0.4681132\n",
      "epoch 49:  training loss:  0.45329916\n",
      "epoch 50:  training loss:  0.44946268\n"
     ]
    },
    {
     "name": "stderr",
     "output_type": "stream",
     "text": [
      " 11%|█▏        | 57/500 [00:03<00:22, 19.97it/s]"
     ]
    },
    {
     "name": "stdout",
     "output_type": "stream",
     "text": [
      "epoch 50:  training loss:  0.44946268 NDCG:  0.0016726855099603282\n",
      "epoch 51:  training loss:  0.44626728\n",
      "epoch 52:  training loss:  0.4358571\n",
      "epoch 53:  training loss:  0.44334233\n",
      "epoch 54:  training loss:  0.43165532\n",
      "epoch 55:  training loss:  0.4280506\n",
      "epoch 56:  training loss:  0.42667586\n",
      "epoch 57:  training loss:  0.41820693\n",
      "epoch 58:  training loss:  0.4191968\n",
      "epoch 59:  training loss:  0.4119834\n",
      "epoch 60:  training loss:  0.40960574\n"
     ]
    },
    {
     "name": "stderr",
     "output_type": "stream",
     "text": [
      " 13%|█▎        | 65/500 [00:03<00:21, 20.03it/s]"
     ]
    },
    {
     "name": "stdout",
     "output_type": "stream",
     "text": [
      "epoch 60:  training loss:  0.40960574 NDCG:  0.0010374592255029526\n",
      "epoch 61:  training loss:  0.4060538\n",
      "epoch 62:  training loss:  0.40015084\n",
      "epoch 63:  training loss:  0.39180732\n",
      "epoch 64:  training loss:  0.39656615\n",
      "epoch 65:  training loss:  0.39118755\n",
      "epoch 66:  training loss:  0.3839413\n",
      "epoch 67:  training loss:  0.38298038\n"
     ]
    },
    {
     "name": "stderr",
     "output_type": "stream",
     "text": [
      " 14%|█▍        | 69/500 [00:03<00:18, 23.53it/s]"
     ]
    },
    {
     "name": "stdout",
     "output_type": "stream",
     "text": [
      "epoch 68:  training loss:  0.37511092\n",
      "epoch 69:  training loss:  0.3651166\n",
      "epoch 70:  training loss:  0.36839202\n"
     ]
    },
    {
     "name": "stderr",
     "output_type": "stream",
     "text": [
      " 15%|█▌        | 76/500 [00:04<00:21, 20.05it/s]"
     ]
    },
    {
     "name": "stdout",
     "output_type": "stream",
     "text": [
      "epoch 70:  training loss:  0.36839202 NDCG:  0.0010374592255029526\n",
      "epoch 71:  training loss:  0.3703221\n",
      "epoch 72:  training loss:  0.35966095\n",
      "epoch 73:  training loss:  0.3574466\n",
      "epoch 74:  training loss:  0.36336\n",
      "epoch 75:  training loss:  0.3538427\n",
      "epoch 76:  training loss:  0.34672266\n"
     ]
    },
    {
     "name": "stderr",
     "output_type": "stream",
     "text": [
      " 16%|█▌        | 80/500 [00:04<00:18, 22.94it/s]"
     ]
    },
    {
     "name": "stdout",
     "output_type": "stream",
     "text": [
      "epoch 77:  training loss:  0.35633707\n",
      "epoch 78:  training loss:  0.34312427\n",
      "epoch 79:  training loss:  0.33173457\n",
      "epoch 80:  training loss:  0.34042016\n"
     ]
    },
    {
     "name": "stderr",
     "output_type": "stream",
     "text": [
      " 17%|█▋        | 87/500 [00:04<00:21, 19.50it/s]"
     ]
    },
    {
     "name": "stdout",
     "output_type": "stream",
     "text": [
      "epoch 80:  training loss:  0.34042016 NDCG:  0.0010374592255029526\n",
      "epoch 81:  training loss:  0.33678827\n",
      "epoch 82:  training loss:  0.3267717\n",
      "epoch 83:  training loss:  0.3278029\n",
      "epoch 84:  training loss:  0.31911075\n",
      "epoch 85:  training loss:  0.31923229\n",
      "epoch 86:  training loss:  0.31985426\n",
      "epoch 87:  training loss:  0.32118833\n",
      "epoch 88:  training loss:  0.32149363\n",
      "epoch 89:  training loss:  0.31620586\n",
      "epoch 90:  training loss:  0.30966392\n"
     ]
    },
    {
     "name": "stderr",
     "output_type": "stream",
     "text": [
      " 19%|█▉        | 95/500 [00:05<00:21, 18.96it/s]"
     ]
    },
    {
     "name": "stdout",
     "output_type": "stream",
     "text": [
      "epoch 90:  training loss:  0.30966392 NDCG:  0.0010374592255029526\n",
      "epoch 91:  training loss:  0.31521928\n",
      "epoch 92:  training loss:  0.30097973\n",
      "epoch 93:  training loss:  0.29913956\n",
      "epoch 94:  training loss:  0.29729092\n",
      "epoch 95:  training loss:  0.30867407\n",
      "epoch 96:  training loss:  0.2974436\n",
      "epoch 97:  training loss:  0.30306554\n"
     ]
    },
    {
     "name": "stderr",
     "output_type": "stream",
     "text": [
      " 20%|█▉        | 99/500 [00:05<00:17, 22.33it/s]"
     ]
    },
    {
     "name": "stdout",
     "output_type": "stream",
     "text": [
      "epoch 98:  training loss:  0.29117224\n",
      "epoch 99:  training loss:  0.2880528\n",
      "epoch 100:  training loss:  0.2969528\n"
     ]
    },
    {
     "name": "stderr",
     "output_type": "stream",
     "text": [
      " 21%|██▏       | 107/500 [00:05<00:18, 21.42it/s]"
     ]
    },
    {
     "name": "stdout",
     "output_type": "stream",
     "text": [
      "epoch 100:  training loss:  0.2969528 NDCG:  0.0010374592255029526\n",
      "epoch 101:  training loss:  0.28909385\n",
      "epoch 102:  training loss:  0.283024\n",
      "epoch 103:  training loss:  0.28276503\n",
      "epoch 104:  training loss:  0.27663645\n",
      "epoch 105:  training loss:  0.28616703\n",
      "epoch 106:  training loss:  0.28473473\n",
      "epoch 107:  training loss:  0.2776797\n",
      "epoch 108:  training loss:  0.27679572\n",
      "epoch 109:  training loss:  0.27794287\n",
      "epoch 110:  training loss:  0.27885878\n"
     ]
    },
    {
     "name": "stderr",
     "output_type": "stream",
     "text": [
      " 23%|██▎       | 115/500 [00:06<00:18, 20.72it/s]"
     ]
    },
    {
     "name": "stdout",
     "output_type": "stream",
     "text": [
      "epoch 110:  training loss:  0.27885878 NDCG:  0.0010374592255029526\n",
      "epoch 111:  training loss:  0.27593958\n",
      "epoch 112:  training loss:  0.27266368\n",
      "epoch 113:  training loss:  0.26631612\n",
      "epoch 114:  training loss:  0.27266306\n",
      "epoch 115:  training loss:  0.26830906\n",
      "epoch 116:  training loss:  0.26288447\n",
      "epoch 117:  training loss:  0.26732138\n"
     ]
    },
    {
     "name": "stderr",
     "output_type": "stream",
     "text": [
      " 24%|██▍       | 119/500 [00:06<00:15, 24.06it/s]"
     ]
    },
    {
     "name": "stdout",
     "output_type": "stream",
     "text": [
      "epoch 118:  training loss:  0.25642574\n",
      "epoch 119:  training loss:  0.2603464\n",
      "epoch 120:  training loss:  0.25098386\n"
     ]
    },
    {
     "name": "stderr",
     "output_type": "stream",
     "text": [
      " 25%|██▌       | 127/500 [00:06<00:17, 21.89it/s]"
     ]
    },
    {
     "name": "stdout",
     "output_type": "stream",
     "text": [
      "epoch 120:  training loss:  0.25098386 NDCG:  0.0010374592255029526\n",
      "epoch 121:  training loss:  0.25713938\n",
      "epoch 122:  training loss:  0.2571277\n",
      "epoch 123:  training loss:  0.25799516\n",
      "epoch 124:  training loss:  0.2474428\n",
      "epoch 125:  training loss:  0.24220544\n",
      "epoch 126:  training loss:  0.2529166\n",
      "epoch 127:  training loss:  0.25541344\n",
      "epoch 128:  training loss:  0.24670188\n",
      "epoch 129:  training loss:  0.2477405\n",
      "epoch 130:  training loss:  0.24346834\n"
     ]
    },
    {
     "name": "stderr",
     "output_type": "stream",
     "text": [
      " 27%|██▋       | 136/500 [00:07<00:16, 22.04it/s]"
     ]
    },
    {
     "name": "stdout",
     "output_type": "stream",
     "text": [
      "epoch 130:  training loss:  0.24346834 NDCG:  0.0010374592255029526\n",
      "epoch 131:  training loss:  0.2552977\n",
      "epoch 132:  training loss:  0.24019517\n",
      "epoch 133:  training loss:  0.23860566\n",
      "epoch 134:  training loss:  0.236425\n",
      "epoch 135:  training loss:  0.23304449\n",
      "epoch 136:  training loss:  0.23854592\n",
      "epoch 137:  training loss:  0.2394417\n",
      "epoch 138:  training loss:  0.23618722\n",
      "epoch 139:  training loss:  0.2259857\n",
      "epoch 140:  training loss:  0.23813146\n"
     ]
    },
    {
     "name": "stderr",
     "output_type": "stream",
     "text": [
      " 29%|██▉       | 146/500 [00:07<00:15, 22.71it/s]"
     ]
    },
    {
     "name": "stdout",
     "output_type": "stream",
     "text": [
      "epoch 140:  training loss:  0.23813146 NDCG:  0.0010374592255029526\n",
      "epoch 141:  training loss:  0.23022641\n",
      "epoch 142:  training loss:  0.22915146\n",
      "epoch 143:  training loss:  0.23599103\n",
      "epoch 144:  training loss:  0.23091687\n",
      "epoch 145:  training loss:  0.22503918\n",
      "epoch 146:  training loss:  0.22528805\n",
      "epoch 147:  training loss:  0.22648957\n",
      "epoch 148:  training loss:  0.2377891\n"
     ]
    },
    {
     "name": "stderr",
     "output_type": "stream",
     "text": [
      " 30%|███       | 150/500 [00:07<00:13, 25.63it/s]"
     ]
    },
    {
     "name": "stdout",
     "output_type": "stream",
     "text": [
      "epoch 149:  training loss:  0.2340815\n",
      "epoch 150:  training loss:  0.22405474\n"
     ]
    },
    {
     "name": "stderr",
     "output_type": "stream",
     "text": [
      " 32%|███▏      | 158/500 [00:08<00:15, 22.65it/s]"
     ]
    },
    {
     "name": "stdout",
     "output_type": "stream",
     "text": [
      "epoch 150:  training loss:  0.22405474 NDCG:  0.0010374592255029526\n",
      "epoch 151:  training loss:  0.21970885\n",
      "epoch 152:  training loss:  0.2298837\n",
      "epoch 153:  training loss:  0.22720401\n",
      "epoch 154:  training loss:  0.22228831\n",
      "epoch 155:  training loss:  0.23217256\n",
      "epoch 156:  training loss:  0.21286443\n",
      "epoch 157:  training loss:  0.22040886\n",
      "epoch 158:  training loss:  0.21707344\n",
      "epoch 159:  training loss:  0.22235078\n",
      "epoch 160:  training loss:  0.21296988\n"
     ]
    },
    {
     "name": "stderr",
     "output_type": "stream",
     "text": [
      " 33%|███▎      | 166/500 [00:08<00:16, 19.84it/s]"
     ]
    },
    {
     "name": "stdout",
     "output_type": "stream",
     "text": [
      "epoch 160:  training loss:  0.21296988 NDCG:  0.0010374592255029526\n",
      "epoch 161:  training loss:  0.21443115\n",
      "epoch 162:  training loss:  0.21721451\n",
      "epoch 163:  training loss:  0.21074341\n",
      "epoch 164:  training loss:  0.21692997\n",
      "epoch 165:  training loss:  0.2064189\n",
      "epoch 166:  training loss:  0.20935655\n"
     ]
    },
    {
     "name": "stderr",
     "output_type": "stream",
     "text": [
      " 34%|███▍      | 170/500 [00:08<00:14, 22.77it/s]"
     ]
    },
    {
     "name": "stdout",
     "output_type": "stream",
     "text": [
      "epoch 167:  training loss:  0.20469838\n",
      "epoch 168:  training loss:  0.219684\n",
      "epoch 169:  training loss:  0.20576398\n",
      "epoch 170:  training loss:  0.20704345\n"
     ]
    },
    {
     "name": "stderr",
     "output_type": "stream",
     "text": [
      " 35%|███▌      | 177/500 [00:09<00:16, 19.98it/s]"
     ]
    },
    {
     "name": "stdout",
     "output_type": "stream",
     "text": [
      "epoch 170:  training loss:  0.20704345 NDCG:  0.0010374592255029526\n",
      "epoch 171:  training loss:  0.212286\n",
      "epoch 172:  training loss:  0.21101075\n",
      "epoch 173:  training loss:  0.20198089\n",
      "epoch 174:  training loss:  0.21074542\n",
      "epoch 175:  training loss:  0.20437914\n",
      "epoch 176:  training loss:  0.20284759\n",
      "epoch 177:  training loss:  0.21081845\n",
      "epoch 178:  training loss:  0.20490201\n",
      "epoch 179:  training loss:  0.194653\n",
      "epoch 180:  training loss:  0.19687887\n"
     ]
    },
    {
     "name": "stderr",
     "output_type": "stream",
     "text": [
      " 37%|███▋      | 185/500 [00:09<00:16, 19.11it/s]"
     ]
    },
    {
     "name": "stdout",
     "output_type": "stream",
     "text": [
      "epoch 180:  training loss:  0.19687887 NDCG:  0.0010374592255029526\n",
      "epoch 181:  training loss:  0.20778568\n",
      "epoch 182:  training loss:  0.20592672\n",
      "epoch 183:  training loss:  0.19659917\n",
      "epoch 184:  training loss:  0.20119563\n",
      "epoch 185:  training loss:  0.21060905\n",
      "epoch 186:  training loss:  0.19863622\n",
      "epoch 187:  training loss:  0.1932964\n"
     ]
    },
    {
     "name": "stderr",
     "output_type": "stream",
     "text": [
      " 38%|███▊      | 189/500 [00:09<00:13, 22.54it/s]"
     ]
    },
    {
     "name": "stdout",
     "output_type": "stream",
     "text": [
      "epoch 188:  training loss:  0.20313433\n",
      "epoch 189:  training loss:  0.19944993\n",
      "epoch 190:  training loss:  0.20067166\n"
     ]
    },
    {
     "name": "stderr",
     "output_type": "stream",
     "text": [
      " 39%|███▉      | 197/500 [00:10<00:14, 21.06it/s]"
     ]
    },
    {
     "name": "stdout",
     "output_type": "stream",
     "text": [
      "epoch 190:  training loss:  0.20067166 NDCG:  0.0010374592255029526\n",
      "epoch 191:  training loss:  0.19251361\n",
      "epoch 192:  training loss:  0.20358533\n",
      "epoch 193:  training loss:  0.19093925\n",
      "epoch 194:  training loss:  0.19253522\n",
      "epoch 195:  training loss:  0.20580077\n",
      "epoch 196:  training loss:  0.1942183\n",
      "epoch 197:  training loss:  0.18701331\n",
      "epoch 198:  training loss:  0.1845148\n",
      "epoch 199:  training loss:  0.183699\n",
      "epoch 200:  training loss:  0.19412884\n"
     ]
    },
    {
     "name": "stderr",
     "output_type": "stream",
     "text": [
      " 41%|████      | 205/500 [00:10<00:15, 19.46it/s]"
     ]
    },
    {
     "name": "stdout",
     "output_type": "stream",
     "text": [
      "epoch 200:  training loss:  0.19412884 NDCG:  0.0010374592255029526\n",
      "epoch 201:  training loss:  0.20112681\n",
      "epoch 202:  training loss:  0.18506823\n",
      "epoch 203:  training loss:  0.18349753\n",
      "epoch 204:  training loss:  0.1899423\n",
      "epoch 205:  training loss:  0.1873317\n",
      "epoch 206:  training loss:  0.18582621\n",
      "epoch 207:  training loss:  0.18353601\n"
     ]
    },
    {
     "name": "stderr",
     "output_type": "stream",
     "text": [
      " 42%|████▏     | 209/500 [00:11<00:12, 23.00it/s]"
     ]
    },
    {
     "name": "stdout",
     "output_type": "stream",
     "text": [
      "epoch 208:  training loss:  0.18953513\n",
      "epoch 209:  training loss:  0.18194169\n",
      "epoch 210:  training loss:  0.18724331\n"
     ]
    },
    {
     "name": "stderr",
     "output_type": "stream",
     "text": [
      " 44%|████▎     | 218/500 [00:11<00:12, 22.17it/s]"
     ]
    },
    {
     "name": "stdout",
     "output_type": "stream",
     "text": [
      "epoch 210:  training loss:  0.18724331 NDCG:  0.0010374592255029526\n",
      "epoch 211:  training loss:  0.18707614\n",
      "epoch 212:  training loss:  0.18012428\n",
      "epoch 213:  training loss:  0.1762915\n",
      "epoch 214:  training loss:  0.1825945\n",
      "epoch 215:  training loss:  0.1799199\n",
      "epoch 216:  training loss:  0.17680413\n",
      "epoch 217:  training loss:  0.18247181\n",
      "epoch 218:  training loss:  0.18159775\n",
      "epoch 219:  training loss:  0.17723364\n",
      "epoch 220:  training loss:  0.17337114\n"
     ]
    },
    {
     "name": "stderr",
     "output_type": "stream",
     "text": [
      " 45%|████▌     | 226/500 [00:12<00:14, 19.07it/s]"
     ]
    },
    {
     "name": "stdout",
     "output_type": "stream",
     "text": [
      "epoch 220:  training loss:  0.17337114 NDCG:  0.0010374592255029526\n",
      "epoch 221:  training loss:  0.17985168\n",
      "epoch 222:  training loss:  0.17327318\n",
      "epoch 223:  training loss:  0.18319984\n",
      "epoch 224:  training loss:  0.17115298\n",
      "epoch 225:  training loss:  0.17348392\n",
      "epoch 226:  training loss:  0.18588437\n"
     ]
    },
    {
     "name": "stderr",
     "output_type": "stream",
     "text": [
      " 46%|████▌     | 230/500 [00:12<00:12, 22.25it/s]"
     ]
    },
    {
     "name": "stdout",
     "output_type": "stream",
     "text": [
      "epoch 227:  training loss:  0.17647427\n",
      "epoch 228:  training loss:  0.17648056\n",
      "epoch 229:  training loss:  0.17745773\n",
      "epoch 230:  training loss:  0.18681407\n"
     ]
    },
    {
     "name": "stderr",
     "output_type": "stream",
     "text": [
      " 47%|████▋     | 237/500 [00:12<00:13, 19.19it/s]"
     ]
    },
    {
     "name": "stdout",
     "output_type": "stream",
     "text": [
      "epoch 230:  training loss:  0.18681407 NDCG:  0.0010374592255029526\n",
      "epoch 231:  training loss:  0.18397278\n",
      "epoch 232:  training loss:  0.18282357\n",
      "epoch 233:  training loss:  0.16954471\n",
      "epoch 234:  training loss:  0.1690852\n",
      "epoch 235:  training loss:  0.17002897\n",
      "epoch 236:  training loss:  0.16758937\n",
      "epoch 237:  training loss:  0.17088729\n",
      "epoch 238:  training loss:  0.1706266\n",
      "epoch 239:  training loss:  0.16329716\n",
      "epoch 240:  training loss:  0.18082142\n"
     ]
    },
    {
     "name": "stderr",
     "output_type": "stream",
     "text": [
      " 49%|████▉     | 245/500 [00:13<00:14, 17.43it/s]"
     ]
    },
    {
     "name": "stdout",
     "output_type": "stream",
     "text": [
      "epoch 240:  training loss:  0.18082142 NDCG:  0.0010374592255029526\n",
      "epoch 241:  training loss:  0.17027251\n",
      "epoch 242:  training loss:  0.18790093\n",
      "epoch 243:  training loss:  0.16906482\n",
      "epoch 244:  training loss:  0.17155099\n",
      "epoch 245:  training loss:  0.16944343\n",
      "epoch 246:  training loss:  0.16495413\n",
      "epoch 247:  training loss:  0.16289476\n"
     ]
    },
    {
     "name": "stderr",
     "output_type": "stream",
     "text": [
      " 50%|████▉     | 249/500 [00:13<00:11, 21.00it/s]"
     ]
    },
    {
     "name": "stdout",
     "output_type": "stream",
     "text": [
      "epoch 248:  training loss:  0.1708893\n",
      "epoch 249:  training loss:  0.17304619\n",
      "epoch 250:  training loss:  0.16739804\n"
     ]
    },
    {
     "name": "stderr",
     "output_type": "stream",
     "text": [
      " 51%|█████     | 256/500 [00:13<00:12, 18.89it/s]"
     ]
    },
    {
     "name": "stdout",
     "output_type": "stream",
     "text": [
      "epoch 250:  training loss:  0.16739804 NDCG:  0.0010374592255029526\n",
      "epoch 251:  training loss:  0.1705939\n",
      "epoch 252:  training loss:  0.16356438\n",
      "epoch 253:  training loss:  0.17104226\n",
      "epoch 254:  training loss:  0.171778\n",
      "epoch 255:  training loss:  0.16973895\n",
      "epoch 256:  training loss:  0.16047533\n",
      "epoch 257:  training loss:  0.16119057\n"
     ]
    },
    {
     "name": "stderr",
     "output_type": "stream",
     "text": [
      " 52%|█████▏    | 260/500 [00:13<00:10, 22.35it/s]"
     ]
    },
    {
     "name": "stdout",
     "output_type": "stream",
     "text": [
      "epoch 258:  training loss:  0.16632919\n",
      "epoch 259:  training loss:  0.16345024\n",
      "epoch 260:  training loss:  0.15854214\n"
     ]
    },
    {
     "name": "stderr",
     "output_type": "stream",
     "text": [
      " 53%|█████▎    | 264/500 [00:14<00:14, 15.85it/s]"
     ]
    },
    {
     "name": "stdout",
     "output_type": "stream",
     "text": [
      "epoch 260:  training loss:  0.15854214 NDCG:  0.0010374592255029526\n",
      "epoch 261:  training loss:  0.15561146\n",
      "epoch 262:  training loss:  0.16086145\n",
      "epoch 263:  training loss:  0.16980402\n",
      "epoch 264:  training loss:  0.15757495\n",
      "epoch 265:  training loss:  0.16318528\n"
     ]
    },
    {
     "name": "stderr",
     "output_type": "stream",
     "text": [
      " 53%|█████▎    | 267/500 [00:14<00:13, 17.68it/s]"
     ]
    },
    {
     "name": "stdout",
     "output_type": "stream",
     "text": [
      "epoch 266:  training loss:  0.16658708\n",
      "epoch 267:  training loss:  0.16167279\n",
      "epoch 268:  training loss:  0.1604777\n",
      "epoch 269:  training loss:  0.15836133\n",
      "epoch 270:  training loss:  0.16111836\n"
     ]
    },
    {
     "name": "stderr",
     "output_type": "stream",
     "text": [
      " 55%|█████▍    | 274/500 [00:14<00:13, 16.38it/s]"
     ]
    },
    {
     "name": "stdout",
     "output_type": "stream",
     "text": [
      "epoch 270:  training loss:  0.16111836 NDCG:  0.0019902986521890156\n",
      "epoch 271:  training loss:  0.1581114\n",
      "epoch 272:  training loss:  0.1541219\n",
      "epoch 273:  training loss:  0.1517368\n",
      "epoch 274:  training loss:  0.15506135\n",
      "epoch 275:  training loss:  0.15300244\n",
      "epoch 276:  training loss:  0.16172928\n"
     ]
    },
    {
     "name": "stderr",
     "output_type": "stream",
     "text": [
      " 56%|█████▌    | 278/500 [00:14<00:11, 19.97it/s]"
     ]
    },
    {
     "name": "stdout",
     "output_type": "stream",
     "text": [
      "epoch 277:  training loss:  0.15338407\n",
      "epoch 278:  training loss:  0.15586166\n",
      "epoch 279:  training loss:  0.15385872\n",
      "epoch 280:  training loss:  0.15430535\n"
     ]
    },
    {
     "name": "stderr",
     "output_type": "stream",
     "text": [
      " 57%|█████▋    | 284/500 [00:15<00:12, 16.92it/s]"
     ]
    },
    {
     "name": "stdout",
     "output_type": "stream",
     "text": [
      "epoch 280:  training loss:  0.15430535 NDCG:  0.0019902986521890156\n",
      "epoch 281:  training loss:  0.15991598\n",
      "epoch 282:  training loss:  0.15634432\n",
      "epoch 283:  training loss:  0.15581506\n",
      "epoch 284:  training loss:  0.15382595\n",
      "epoch 285:  training loss:  0.151528\n"
     ]
    },
    {
     "name": "stderr",
     "output_type": "stream",
     "text": [
      " 58%|█████▊    | 288/500 [00:15<00:10, 20.00it/s]"
     ]
    },
    {
     "name": "stdout",
     "output_type": "stream",
     "text": [
      "epoch 286:  training loss:  0.15424305\n",
      "epoch 287:  training loss:  0.15261067\n",
      "epoch 288:  training loss:  0.15077269\n",
      "epoch 289:  training loss:  0.15873572\n",
      "epoch 290:  training loss:  0.14918703\n"
     ]
    },
    {
     "name": "stderr",
     "output_type": "stream",
     "text": [
      " 59%|█████▉    | 294/500 [00:15<00:12, 16.83it/s]"
     ]
    },
    {
     "name": "stdout",
     "output_type": "stream",
     "text": [
      "epoch 290:  training loss:  0.14918703 NDCG:  0.0019902986521890156\n",
      "epoch 291:  training loss:  0.15147726\n",
      "epoch 292:  training loss:  0.15108357\n",
      "epoch 293:  training loss:  0.15766187\n",
      "epoch 294:  training loss:  0.15880781\n",
      "epoch 295:  training loss:  0.14689988\n",
      "epoch 296:  training loss:  0.1497527\n"
     ]
    },
    {
     "name": "stderr",
     "output_type": "stream",
     "text": [
      " 60%|█████▉    | 298/500 [00:16<00:09, 20.72it/s]"
     ]
    },
    {
     "name": "stdout",
     "output_type": "stream",
     "text": [
      "epoch 297:  training loss:  0.15417549\n",
      "epoch 298:  training loss:  0.16193244\n",
      "epoch 299:  training loss:  0.1546697\n",
      "epoch 300:  training loss:  0.1535876\n"
     ]
    },
    {
     "name": "stderr",
     "output_type": "stream",
     "text": [
      " 61%|██████    | 305/500 [00:16<00:11, 17.27it/s]"
     ]
    },
    {
     "name": "stdout",
     "output_type": "stream",
     "text": [
      "epoch 300:  training loss:  0.1535876 NDCG:  0.0019902986521890156\n",
      "epoch 301:  training loss:  0.14944503\n",
      "epoch 302:  training loss:  0.14356996\n",
      "epoch 303:  training loss:  0.14912413\n",
      "epoch 304:  training loss:  0.15231103\n",
      "epoch 305:  training loss:  0.15480594\n",
      "epoch 306:  training loss:  0.14890507\n",
      "epoch 307:  training loss:  0.14627305\n"
     ]
    },
    {
     "name": "stderr",
     "output_type": "stream",
     "text": [
      " 62%|██████▏   | 310/500 [00:16<00:08, 22.21it/s]"
     ]
    },
    {
     "name": "stdout",
     "output_type": "stream",
     "text": [
      "epoch 308:  training loss:  0.14504512\n",
      "epoch 309:  training loss:  0.1495084\n",
      "epoch 310:  training loss:  0.1534552\n"
     ]
    },
    {
     "name": "stderr",
     "output_type": "stream",
     "text": [
      " 64%|██████▎   | 318/500 [00:17<00:08, 21.73it/s]"
     ]
    },
    {
     "name": "stdout",
     "output_type": "stream",
     "text": [
      "epoch 310:  training loss:  0.1534552 NDCG:  0.0019902986521890156\n",
      "epoch 311:  training loss:  0.1464684\n",
      "epoch 312:  training loss:  0.1496227\n",
      "epoch 313:  training loss:  0.14435583\n",
      "epoch 314:  training loss:  0.1475756\n",
      "epoch 315:  training loss:  0.1418168\n",
      "epoch 316:  training loss:  0.1438365\n",
      "epoch 317:  training loss:  0.14030015\n",
      "epoch 318:  training loss:  0.14695436\n",
      "epoch 319:  training loss:  0.1456641\n",
      "epoch 320:  training loss:  0.14555955\n"
     ]
    },
    {
     "name": "stderr",
     "output_type": "stream",
     "text": [
      " 65%|██████▍   | 324/500 [00:17<00:09, 18.41it/s]"
     ]
    },
    {
     "name": "stdout",
     "output_type": "stream",
     "text": [
      "epoch 320:  training loss:  0.14555955 NDCG:  0.0010374592255029526\n",
      "epoch 321:  training loss:  0.14168975\n",
      "epoch 322:  training loss:  0.1554639\n",
      "epoch 323:  training loss:  0.14729756\n",
      "epoch 324:  training loss:  0.14796686\n",
      "epoch 325:  training loss:  0.1524186\n",
      "epoch 326:  training loss:  0.13871127\n"
     ]
    },
    {
     "name": "stderr",
     "output_type": "stream",
     "text": [
      " 66%|██████▌   | 328/500 [00:17<00:07, 21.86it/s]"
     ]
    },
    {
     "name": "stdout",
     "output_type": "stream",
     "text": [
      "epoch 327:  training loss:  0.14695345\n",
      "epoch 328:  training loss:  0.13917948\n",
      "epoch 329:  training loss:  0.14257784\n",
      "epoch 330:  training loss:  0.14041002\n"
     ]
    },
    {
     "name": "stderr",
     "output_type": "stream",
     "text": [
      " 67%|██████▋   | 335/500 [00:18<00:08, 19.26it/s]"
     ]
    },
    {
     "name": "stdout",
     "output_type": "stream",
     "text": [
      "epoch 330:  training loss:  0.14041002 NDCG:  0.00028765987519631755\n",
      "epoch 331:  training loss:  0.14271173\n",
      "epoch 332:  training loss:  0.14537054\n",
      "epoch 333:  training loss:  0.13702276\n",
      "epoch 334:  training loss:  0.1454368\n",
      "epoch 335:  training loss:  0.13588437\n",
      "epoch 336:  training loss:  0.14114353\n",
      "epoch 337:  training loss:  0.14693958\n"
     ]
    },
    {
     "name": "stderr",
     "output_type": "stream",
     "text": [
      " 68%|██████▊   | 339/500 [00:18<00:06, 23.08it/s]"
     ]
    },
    {
     "name": "stdout",
     "output_type": "stream",
     "text": [
      "epoch 338:  training loss:  0.14020766\n",
      "epoch 339:  training loss:  0.15183783\n",
      "epoch 340:  training loss:  0.14637001\n"
     ]
    },
    {
     "name": "stderr",
     "output_type": "stream",
     "text": [
      " 70%|██████▉   | 348/500 [00:18<00:06, 22.27it/s]"
     ]
    },
    {
     "name": "stdout",
     "output_type": "stream",
     "text": [
      "epoch 340:  training loss:  0.14637001 NDCG:  0.00028765987519631755\n",
      "epoch 341:  training loss:  0.13676354\n",
      "epoch 342:  training loss:  0.13634509\n",
      "epoch 343:  training loss:  0.14230296\n",
      "epoch 344:  training loss:  0.13584365\n",
      "epoch 345:  training loss:  0.14187807\n",
      "epoch 346:  training loss:  0.13693151\n",
      "epoch 347:  training loss:  0.14640759\n",
      "epoch 348:  training loss:  0.14201134\n",
      "epoch 349:  training loss:  0.13894792\n",
      "epoch 350:  training loss:  0.13421112\n"
     ]
    },
    {
     "name": "stderr",
     "output_type": "stream",
     "text": [
      " 71%|███████   | 355/500 [00:19<00:07, 20.61it/s]"
     ]
    },
    {
     "name": "stdout",
     "output_type": "stream",
     "text": [
      "epoch 350:  training loss:  0.13421112 NDCG:  0.0012404993018823806\n",
      "epoch 351:  training loss:  0.14281967\n",
      "epoch 352:  training loss:  0.14905852\n",
      "epoch 353:  training loss:  0.14201973\n",
      "epoch 354:  training loss:  0.1346817\n",
      "epoch 355:  training loss:  0.13610862\n",
      "epoch 356:  training loss:  0.13417023\n",
      "epoch 357:  training loss:  0.1365025\n"
     ]
    },
    {
     "name": "stderr",
     "output_type": "stream",
     "text": [
      " 72%|███████▏  | 359/500 [00:19<00:05, 23.93it/s]"
     ]
    },
    {
     "name": "stdout",
     "output_type": "stream",
     "text": [
      "epoch 358:  training loss:  0.14122824\n",
      "epoch 359:  training loss:  0.14214425\n",
      "epoch 360:  training loss:  0.14295813\n"
     ]
    },
    {
     "name": "stderr",
     "output_type": "stream",
     "text": [
      " 74%|███████▎  | 368/500 [00:19<00:05, 22.38it/s]"
     ]
    },
    {
     "name": "stdout",
     "output_type": "stream",
     "text": [
      "epoch 360:  training loss:  0.14295813 NDCG:  0.0012404993018823806\n",
      "epoch 361:  training loss:  0.13648091\n",
      "epoch 362:  training loss:  0.13991982\n",
      "epoch 363:  training loss:  0.13720134\n",
      "epoch 364:  training loss:  0.1509805\n",
      "epoch 365:  training loss:  0.13241018\n",
      "epoch 366:  training loss:  0.13143098\n",
      "epoch 367:  training loss:  0.13784458\n",
      "epoch 368:  training loss:  0.13407305\n",
      "epoch 369:  training loss:  0.13835719\n",
      "epoch 370:  training loss:  0.13232663\n"
     ]
    },
    {
     "name": "stderr",
     "output_type": "stream",
     "text": [
      " 75%|███████▌  | 375/500 [00:20<00:06, 19.70it/s]"
     ]
    },
    {
     "name": "stdout",
     "output_type": "stream",
     "text": [
      "epoch 370:  training loss:  0.13232663 NDCG:  0.0023012790015705404\n",
      "epoch 371:  training loss:  0.13743524\n",
      "epoch 372:  training loss:  0.1416469\n",
      "epoch 373:  training loss:  0.1372057\n",
      "epoch 374:  training loss:  0.13191776\n",
      "epoch 375:  training loss:  0.13440323\n",
      "epoch 376:  training loss:  0.1351027\n"
     ]
    },
    {
     "name": "stderr",
     "output_type": "stream",
     "text": [
      " 76%|███████▌  | 380/500 [00:20<00:04, 24.09it/s]"
     ]
    },
    {
     "name": "stdout",
     "output_type": "stream",
     "text": [
      "epoch 377:  training loss:  0.13175544\n",
      "epoch 378:  training loss:  0.13437277\n",
      "epoch 379:  training loss:  0.1304572\n",
      "epoch 380:  training loss:  0.13301963\n"
     ]
    },
    {
     "name": "stderr",
     "output_type": "stream",
     "text": [
      " 78%|███████▊  | 388/500 [00:20<00:05, 20.69it/s]"
     ]
    },
    {
     "name": "stdout",
     "output_type": "stream",
     "text": [
      "epoch 380:  training loss:  0.13301963 NDCG:  0.0012404993018823806\n",
      "epoch 381:  training loss:  0.13398132\n",
      "epoch 382:  training loss:  0.13378607\n",
      "epoch 383:  training loss:  0.14326565\n",
      "epoch 384:  training loss:  0.1302486\n",
      "epoch 385:  training loss:  0.1333211\n",
      "epoch 386:  training loss:  0.12936981\n",
      "epoch 387:  training loss:  0.13048846\n",
      "epoch 388:  training loss:  0.13455938\n",
      "epoch 389:  training loss:  0.14542803\n",
      "epoch 390:  training loss:  0.1397725\n"
     ]
    },
    {
     "name": "stderr",
     "output_type": "stream",
     "text": [
      " 79%|███████▉  | 395/500 [00:21<00:05, 18.99it/s]"
     ]
    },
    {
     "name": "stdout",
     "output_type": "stream",
     "text": [
      "epoch 390:  training loss:  0.1397725 NDCG:  0.00028765987519631755\n",
      "epoch 391:  training loss:  0.12962754\n",
      "epoch 392:  training loss:  0.13519093\n",
      "epoch 393:  training loss:  0.13270195\n",
      "epoch 394:  training loss:  0.13337636\n",
      "epoch 395:  training loss:  0.13786145\n",
      "epoch 396:  training loss:  0.13442472\n",
      "epoch 397:  training loss:  0.12680043\n"
     ]
    },
    {
     "name": "stderr",
     "output_type": "stream",
     "text": [
      " 80%|████████  | 400/500 [00:21<00:04, 23.66it/s]"
     ]
    },
    {
     "name": "stdout",
     "output_type": "stream",
     "text": [
      "epoch 398:  training loss:  0.13165623\n",
      "epoch 399:  training loss:  0.13152158\n",
      "epoch 400:  training loss:  0.12832354\n"
     ]
    },
    {
     "name": "stderr",
     "output_type": "stream",
     "text": [
      " 82%|████████▏ | 409/500 [00:21<00:03, 22.99it/s]"
     ]
    },
    {
     "name": "stdout",
     "output_type": "stream",
     "text": [
      "epoch 400:  training loss:  0.12832354 NDCG:  0.000136119918098009\n",
      "epoch 401:  training loss:  0.1284811\n",
      "epoch 402:  training loss:  0.13784651\n",
      "epoch 403:  training loss:  0.13115568\n",
      "epoch 404:  training loss:  0.13260001\n",
      "epoch 405:  training loss:  0.12533194\n",
      "epoch 406:  training loss:  0.13270801\n",
      "epoch 407:  training loss:  0.12741281\n",
      "epoch 408:  training loss:  0.12513073\n",
      "epoch 409:  training loss:  0.13364692\n",
      "epoch 410:  training loss:  0.13293259\n"
     ]
    },
    {
     "name": "stderr",
     "output_type": "stream",
     "text": [
      " 84%|████████▎ | 418/500 [00:22<00:03, 22.90it/s]"
     ]
    },
    {
     "name": "stdout",
     "output_type": "stream",
     "text": [
      "epoch 410:  training loss:  0.13293259 NDCG:  0.00028765987519631755\n",
      "epoch 411:  training loss:  0.12644023\n",
      "epoch 412:  training loss:  0.1318323\n",
      "epoch 413:  training loss:  0.13736537\n",
      "epoch 414:  training loss:  0.14583835\n",
      "epoch 415:  training loss:  0.1279704\n",
      "epoch 416:  training loss:  0.12659484\n",
      "epoch 417:  training loss:  0.1390545\n",
      "epoch 418:  training loss:  0.13091496\n",
      "epoch 419:  training loss:  0.1308815\n",
      "epoch 420:  training loss:  0.12774059\n"
     ]
    },
    {
     "name": "stderr",
     "output_type": "stream",
     "text": [
      " 85%|████████▌ | 425/500 [00:22<00:03, 18.80it/s]"
     ]
    },
    {
     "name": "stdout",
     "output_type": "stream",
     "text": [
      "epoch 420:  training loss:  0.12774059 NDCG:  0.0023012790015705404\n",
      "epoch 421:  training loss:  0.12620503\n",
      "epoch 422:  training loss:  0.12884879\n",
      "epoch 423:  training loss:  0.1252518\n",
      "epoch 424:  training loss:  0.12863113\n",
      "epoch 425:  training loss:  0.12724262\n",
      "epoch 426:  training loss:  0.1233286\n"
     ]
    },
    {
     "name": "stderr",
     "output_type": "stream",
     "text": [
      " 86%|████████▌ | 430/500 [00:22<00:03, 23.20it/s]"
     ]
    },
    {
     "name": "stdout",
     "output_type": "stream",
     "text": [
      "epoch 427:  training loss:  0.12558538\n",
      "epoch 428:  training loss:  0.13178335\n",
      "epoch 429:  training loss:  0.12342152\n",
      "epoch 430:  training loss:  0.12271306\n"
     ]
    },
    {
     "name": "stderr",
     "output_type": "stream",
     "text": [
      " 88%|████████▊ | 439/500 [00:23<00:02, 22.83it/s]"
     ]
    },
    {
     "name": "stdout",
     "output_type": "stream",
     "text": [
      "epoch 430:  training loss:  0.12271306 NDCG:  0.00028765987519631755\n",
      "epoch 431:  training loss:  0.12951238\n",
      "epoch 432:  training loss:  0.13470694\n",
      "epoch 433:  training loss:  0.13314386\n",
      "epoch 434:  training loss:  0.13393126\n",
      "epoch 435:  training loss:  0.12986197\n",
      "epoch 436:  training loss:  0.12212202\n",
      "epoch 437:  training loss:  0.13202539\n",
      "epoch 438:  training loss:  0.1221852\n",
      "epoch 439:  training loss:  0.12940049\n",
      "epoch 440:  training loss:  0.12394171\n"
     ]
    },
    {
     "name": "stderr",
     "output_type": "stream",
     "text": [
      " 89%|████████▉ | 447/500 [00:23<00:02, 21.99it/s]"
     ]
    },
    {
     "name": "stdout",
     "output_type": "stream",
     "text": [
      "epoch 440:  training loss:  0.12394171 NDCG:  0.0012404993018823806\n",
      "epoch 441:  training loss:  0.123893276\n",
      "epoch 442:  training loss:  0.12318277\n",
      "epoch 443:  training loss:  0.120868035\n",
      "epoch 444:  training loss:  0.12245374\n",
      "epoch 445:  training loss:  0.12615569\n",
      "epoch 446:  training loss:  0.12209099\n",
      "epoch 447:  training loss:  0.1244187\n",
      "epoch 448:  training loss:  0.13262428\n",
      "epoch 449:  training loss:  0.13146527\n",
      "epoch 450:  training loss:  0.12183021\n"
     ]
    },
    {
     "name": "stderr",
     "output_type": "stream",
     "text": [
      " 91%|█████████ | 456/500 [00:24<00:01, 22.39it/s]"
     ]
    },
    {
     "name": "stdout",
     "output_type": "stream",
     "text": [
      "epoch 450:  training loss:  0.12183021 NDCG:  0.002149739044472232\n",
      "epoch 451:  training loss:  0.12873419\n",
      "epoch 452:  training loss:  0.12995145\n",
      "epoch 453:  training loss:  0.13523613\n",
      "epoch 454:  training loss:  0.13989428\n",
      "epoch 455:  training loss:  0.120736755\n",
      "epoch 456:  training loss:  0.1283757\n",
      "epoch 457:  training loss:  0.121839814\n"
     ]
    },
    {
     "name": "stderr",
     "output_type": "stream",
     "text": [
      " 92%|█████████▏| 460/500 [00:24<00:01, 24.81it/s]"
     ]
    },
    {
     "name": "stdout",
     "output_type": "stream",
     "text": [
      "epoch 458:  training loss:  0.1203844\n",
      "epoch 459:  training loss:  0.13325065\n",
      "epoch 460:  training loss:  0.12771456\n"
     ]
    },
    {
     "name": "stderr",
     "output_type": "stream",
     "text": [
      " 94%|█████████▎| 468/500 [00:24<00:01, 21.24it/s]"
     ]
    },
    {
     "name": "stdout",
     "output_type": "stream",
     "text": [
      "epoch 460:  training loss:  0.12771456 NDCG:  0.002149739044472232\n",
      "epoch 461:  training loss:  0.13246532\n",
      "epoch 462:  training loss:  0.1267791\n",
      "epoch 463:  training loss:  0.14021899\n",
      "epoch 464:  training loss:  0.12421259\n",
      "epoch 465:  training loss:  0.124056086\n",
      "epoch 466:  training loss:  0.12735592\n",
      "epoch 467:  training loss:  0.124819756\n",
      "epoch 468:  training loss:  0.12194928\n",
      "epoch 469:  training loss:  0.12113789\n",
      "epoch 470:  training loss:  0.12645724\n"
     ]
    },
    {
     "name": "stderr",
     "output_type": "stream",
     "text": [
      " 95%|█████████▌| 476/500 [00:25<00:01, 20.90it/s]"
     ]
    },
    {
     "name": "stdout",
     "output_type": "stream",
     "text": [
      "epoch 470:  training loss:  0.12645724 NDCG:  0.0012404993018823806\n",
      "epoch 471:  training loss:  0.12375389\n",
      "epoch 472:  training loss:  0.13692765\n",
      "epoch 473:  training loss:  0.13131186\n",
      "epoch 474:  training loss:  0.12628028\n",
      "epoch 475:  training loss:  0.13018736\n",
      "epoch 476:  training loss:  0.12268481\n",
      "epoch 477:  training loss:  0.1294814\n",
      "epoch 478:  training loss:  0.12128087\n",
      "epoch 479:  training loss:  0.11843322\n",
      "epoch 480:  training loss:  0.11964595\n"
     ]
    },
    {
     "name": "stderr",
     "output_type": "stream",
     "text": [
      " 97%|█████████▋| 485/500 [00:25<00:00, 21.04it/s]"
     ]
    },
    {
     "name": "stdout",
     "output_type": "stream",
     "text": [
      "epoch 480:  training loss:  0.11964595 NDCG:  0.0010889593447840722\n",
      "epoch 481:  training loss:  0.1283613\n",
      "epoch 482:  training loss:  0.1291133\n",
      "epoch 483:  training loss:  0.12607619\n",
      "epoch 484:  training loss:  0.1273946\n",
      "epoch 485:  training loss:  0.12824565\n",
      "epoch 486:  training loss:  0.1235808\n",
      "epoch 487:  training loss:  0.123689055\n"
     ]
    },
    {
     "name": "stderr",
     "output_type": "stream",
     "text": [
      " 98%|█████████▊| 489/500 [00:25<00:00, 24.17it/s]"
     ]
    },
    {
     "name": "stdout",
     "output_type": "stream",
     "text": [
      "epoch 488:  training loss:  0.123170584\n",
      "epoch 489:  training loss:  0.11800214\n",
      "epoch 490:  training loss:  0.12641688\n"
     ]
    },
    {
     "name": "stderr",
     "output_type": "stream",
     "text": [
      "100%|█████████▉| 498/500 [00:26<00:00, 22.81it/s]"
     ]
    },
    {
     "name": "stdout",
     "output_type": "stream",
     "text": [
      "epoch 490:  training loss:  0.12641688 NDCG:  0.002149739044472232\n",
      "epoch 491:  training loss:  0.12242709\n",
      "epoch 492:  training loss:  0.12464522\n",
      "epoch 493:  training loss:  0.12975758\n",
      "epoch 494:  training loss:  0.13427877\n",
      "epoch 495:  training loss:  0.1166538\n",
      "epoch 496:  training loss:  0.118282676\n",
      "epoch 497:  training loss:  0.11565407\n",
      "epoch 498:  training loss:  0.1175118\n"
     ]
    },
    {
     "name": "stderr",
     "output_type": "stream",
     "text": [
      "100%|██████████| 500/500 [00:26<00:00, 19.03it/s]"
     ]
    },
    {
     "name": "stdout",
     "output_type": "stream",
     "text": [
      "epoch 499:  training loss:  0.119153365\n"
     ]
    },
    {
     "name": "stderr",
     "output_type": "stream",
     "text": [
      "\n"
     ]
    },
    {
     "data": {
      "text/plain": [
       "0"
      ]
     },
     "execution_count": 15,
     "metadata": {},
     "output_type": "execute_result"
    }
   ],
   "source": [
    "#   # training arguments\n",
    "if t_args.gpu:\n",
    "    os.environ[\"CUDA_VISIBLE_DEVICES\"] = t_args.cuda\n",
    "    print(\"Using CUDA\", t_args.cuda)\n",
    "else:\n",
    "    print(\"Using CPU\")\n",
    "train_base_recommendation(t_args, ap)"
   ]
  },
  {
   "cell_type": "code",
   "execution_count": null,
   "id": "522047f4",
   "metadata": {},
   "outputs": [],
   "source": []
  },
  {
   "cell_type": "code",
   "execution_count": 16,
   "id": "93ced388",
   "metadata": {},
   "outputs": [],
   "source": [
    "\n",
    "# if exp_args.gpu:\n",
    "#     device = torch.device('cuda:%s' % exp_args.cuda)\n",
    "# else:\n",
    "#     device = 'cpu'\n",
    "# print(device)"
   ]
  },
  {
   "cell_type": "code",
   "execution_count": 17,
   "id": "83df68be",
   "metadata": {},
   "outputs": [
    {
     "name": "stderr",
     "output_type": "stream",
     "text": [
      "100%|██████████| 203/203 [32:37<00:00,  9.64s/it]\n"
     ]
    },
    {
     "name": "stdout",
     "output_type": "stream",
     "text": [
      "ave num:  1.0199081163859112 ave complexity:  2.390573562962926\n",
      "user's perspective:\n",
      "ave pre:  1.0   ave rec:  1.0   ave f1:  1.0\n",
      "model's perspective:\n",
      "ave PN:  0.9709035222052067   ave PS:  0.5620214395099541   ave F_{NS}:  0.7119312540445771\n"
     ]
    }
   ],
   "source": [
    "\n",
    "\n",
    "\n",
    "def generate_explanation(exp_args):\n",
    "    if exp_args.gpu:\n",
    "        device = torch.device('cuda:%s' % exp_args.cuda)\n",
    "    else:\n",
    "        device = 'cpu'\n",
    "    # import dataset\n",
    "    with open(os.path.join(exp_args.data_obj_path, exp_args.dataset + \"_dataset_obj.pickle\"), 'rb') as inp:\n",
    "        rec_dataset = pickle.load(inp)\n",
    "    base_model = BaseRecModel(rec_dataset.feature_num).to(device)\n",
    "    base_model.load_state_dict(torch.load(os.path.join(exp_args.base_model_path, exp_args.dataset+\"_logs\", \"model.model\")))\n",
    "    base_model.eval()\n",
    "    #  fix the rec model\n",
    "    for param in base_model.parameters():\n",
    "        param.requires_grad = False\n",
    "    \n",
    "    # Create optimization model\n",
    "    opt_model = ExpOptimizationModel(\n",
    "        base_model=base_model,\n",
    "        rec_dataset=rec_dataset,\n",
    "        device = device,\n",
    "        exp_args=exp_args,\n",
    "    )\n",
    "    \n",
    "\n",
    "    opt_model.generate_explanation()\n",
    "    opt_model.user_side_evaluation()\n",
    "    opt_model.model_side_evaluation()\n",
    "    Path(exp_args.save_path).mkdir(parents=True, exist_ok=True)\n",
    "    with open(os.path.join(exp_args.save_path, exp_args.dataset + \"_explanation_obj.pickle\"), 'wb') as outp:\n",
    "        pickle.dump(opt_model, outp, pickle.HIGHEST_PROTOCOL)\n",
    "    return True\n",
    "\n",
    "\n",
    "if __name__ == \"__main__\":\n",
    "    exp_args = arg_parse_exp_optimize()\n",
    "    generate_explanation(exp_args)"
   ]
  },
  {
   "cell_type": "code",
   "execution_count": null,
   "id": "ff69f9af",
   "metadata": {},
   "outputs": [],
   "source": []
  }
 ],
 "metadata": {
  "kernelspec": {
   "display_name": "Python 3 (ipykernel)",
   "language": "python",
   "name": "python3"
  },
  "language_info": {
   "codemirror_mode": {
    "name": "ipython",
    "version": 3
   },
   "file_extension": ".py",
   "mimetype": "text/x-python",
   "name": "python",
   "nbconvert_exporter": "python",
   "pygments_lexer": "ipython3",
   "version": "3.9.5"
  }
 },
 "nbformat": 4,
 "nbformat_minor": 5
}
